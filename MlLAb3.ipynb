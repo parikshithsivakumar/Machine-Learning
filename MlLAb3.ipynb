{
  "nbformat": 4,
  "nbformat_minor": 0,
  "metadata": {
    "colab": {
      "provenance": [],
      "authorship_tag": "ABX9TyMOLqom3Aj+PvugvGQ6o8cR",
      "include_colab_link": true
    },
    "kernelspec": {
      "name": "python3",
      "display_name": "Python 3"
    },
    "language_info": {
      "name": "python"
    }
  },
  "cells": [
    {
      "cell_type": "markdown",
      "metadata": {
        "id": "view-in-github",
        "colab_type": "text"
      },
      "source": [
        "<a href=\"https://colab.research.google.com/github/parikshithsivakumar/Machine-Learning/blob/main/MlLAb3.ipynb\" target=\"_parent\"><img src=\"https://colab.research.google.com/assets/colab-badge.svg\" alt=\"Open In Colab\"/></a>"
      ]
    },
    {
      "cell_type": "code",
      "execution_count": 21,
      "metadata": {
        "id": "zlVaxvRMs6AT"
      },
      "outputs": [],
      "source": [
        "import pandas as pd\n",
        "\n",
        "# Load dataset from the specific sheet\n",
        "df = pd.read_excel('Lab Session Data.xlsx', sheet_name='marketing_campaign')\n",
        "\n",
        "# Extract features and labels\n",
        "X = df.drop('Year_Birth', axis=1)\n",
        "y = df['Year_Birth']\n"
      ]
    },
    {
      "cell_type": "code",
      "source": [
        "print(df.columns)\n",
        "\n"
      ],
      "metadata": {
        "colab": {
          "base_uri": "https://localhost:8080/"
        },
        "id": "T8PgbitZuXD2",
        "outputId": "bae33c22-9559-4553-dae4-414d7d83e4fd"
      },
      "execution_count": 22,
      "outputs": [
        {
          "output_type": "stream",
          "name": "stdout",
          "text": [
            "Index(['ID', 'Year_Birth', 'Education', 'Marital_Status', 'Income', 'Kidhome',\n",
            "       'Teenhome', 'Dt_Customer', 'Recency', 'MntWines', 'MntFruits',\n",
            "       'MntMeatProducts', 'MntFishProducts', 'MntSweetProducts',\n",
            "       'MntGoldProds', 'NumDealsPurchases', 'NumWebPurchases',\n",
            "       'NumCatalogPurchases', 'NumStorePurchases', 'NumWebVisitsMonth',\n",
            "       'AcceptedCmp3', 'AcceptedCmp4', 'AcceptedCmp5', 'AcceptedCmp1',\n",
            "       'AcceptedCmp2', 'Complain', 'Z_CostContact', 'Z_Revenue', 'Response'],\n",
            "      dtype='object')\n"
          ]
        }
      ]
    },
    {
      "cell_type": "code",
      "source": [
        "import pandas as pd\n",
        "\n",
        "# Load dataset\n",
        "df = pd.read_excel('Lab Session Data.xlsx', sheet_name='marketing_campaign')\n",
        "\n",
        "# Display unique classes in the Response column\n",
        "unique_classes = df['Response'].unique()\n",
        "print(\"Unique classes in the 'Response' column:\", unique_classes)\n"
      ],
      "metadata": {
        "colab": {
          "base_uri": "https://localhost:8080/"
        },
        "id": "lcmZYAvhupfo",
        "outputId": "5a8f232d-0f83-403f-bcbd-330056808202"
      },
      "execution_count": 23,
      "outputs": [
        {
          "output_type": "stream",
          "name": "stdout",
          "text": [
            "Unique classes in the 'Response' column: [1 0]\n"
          ]
        }
      ]
    },
    {
      "cell_type": "code",
      "source": [
        "import pandas as pd\n",
        "import numpy as np\n",
        "\n",
        "# Load dataset\n",
        "df = pd.read_excel('Lab Session Data.xlsx', sheet_name='marketing_campaign')\n",
        "\n",
        "# Extract features and labels\n",
        "X = df.drop('Response', axis=1).select_dtypes(include=[np.number])  # Use only numerical features\n",
        "y = df['Response']\n",
        "\n",
        "def calculate_intraclass_interclass(X, y):\n",
        "    classes = y.unique()\n",
        "    class_means = {}\n",
        "    class_spreads = {}\n",
        "\n",
        "    for cls in classes:\n",
        "        class_data = X[y == cls]\n",
        "        class_means[cls] = class_data.mean(axis=0)\n",
        "        class_spreads[cls] = class_data.std(axis=0)\n",
        "\n",
        "    interclass_distances = {}\n",
        "    for cls1 in classes:\n",
        "        for cls2 in classes:\n",
        "            if cls1 != cls2:\n",
        "                distance = np.linalg.norm(class_means[cls1] - class_means[cls2])\n",
        "                interclass_distances[(cls1, cls2)] = distance\n",
        "\n",
        "    return class_means, class_spreads, interclass_distances\n",
        "\n",
        "class_means, class_spreads, interclass_distances = calculate_intraclass_interclass(X, y)\n",
        "print(\"Class Means:\", class_means)\n",
        "print(\"Class Spreads:\", class_spreads)\n",
        "print(\"Interclass Distances:\", interclass_distances)\n"
      ],
      "metadata": {
        "colab": {
          "base_uri": "https://localhost:8080/"
        },
        "id": "PEZlGqqjwUom",
        "outputId": "72f01941-02f7-4991-ceff-2437fda134a2"
      },
      "execution_count": 24,
      "outputs": [
        {
          "output_type": "stream",
          "name": "stdout",
          "text": [
            "Class Means: {1: ID                      5421.820359\n",
            "Year_Birth              1969.416168\n",
            "Income                 60209.675676\n",
            "Kidhome                    0.341317\n",
            "Teenhome                   0.305389\n",
            "Recency                   35.383234\n",
            "MntWines                 502.703593\n",
            "MntFruits                 38.203593\n",
            "MntMeatProducts          294.353293\n",
            "MntFishProducts           52.050898\n",
            "MntSweetProducts          38.634731\n",
            "MntGoldProds              61.446108\n",
            "NumDealsPurchases          2.335329\n",
            "NumWebPurchases            5.071856\n",
            "NumCatalogPurchases        4.203593\n",
            "NumStorePurchases          6.095808\n",
            "NumWebVisitsMonth          5.293413\n",
            "AcceptedCmp3               0.230539\n",
            "AcceptedCmp4               0.185629\n",
            "AcceptedCmp5               0.275449\n",
            "AcceptedCmp1               0.236527\n",
            "AcceptedCmp2               0.059880\n",
            "Complain                   0.008982\n",
            "Z_CostContact              3.000000\n",
            "Z_Revenue                 11.000000\n",
            "dtype: float64, 0: ID                      5622.009444\n",
            "Year_Birth              1968.698846\n",
            "Income                 50839.132767\n",
            "Kidhome                    0.462225\n",
            "Teenhome                   0.541448\n",
            "Recency                   51.514690\n",
            "MntWines                 269.104407\n",
            "MntFruits                 24.216684\n",
            "MntMeatProducts          144.624344\n",
            "MntFishProducts           34.980063\n",
            "MntSweetProducts          25.035152\n",
            "MntGoldProds              40.968520\n",
            "NumDealsPurchases          2.323190\n",
            "NumWebPurchases            3.911857\n",
            "NumCatalogPurchases        2.391920\n",
            "NumStorePurchases          5.736621\n",
            "NumWebVisitsMonth          5.320567\n",
            "AcceptedCmp3               0.045121\n",
            "AcceptedCmp4               0.055089\n",
            "AcceptedCmp5               0.037251\n",
            "AcceptedCmp1               0.034103\n",
            "AcceptedCmp2               0.005247\n",
            "Complain                   0.009444\n",
            "Z_CostContact              3.000000\n",
            "Z_Revenue                 11.000000\n",
            "dtype: float64}\n",
            "Class Spreads: {1: ID                      3154.132439\n",
            "Year_Birth                12.398192\n",
            "Income                 23194.080987\n",
            "Kidhome                    0.487347\n",
            "Teenhome                   0.492741\n",
            "Recency                   27.659499\n",
            "MntWines                 427.183786\n",
            "MntFruits                 46.099519\n",
            "MntMeatProducts          286.890036\n",
            "MntFishProducts           61.855885\n",
            "MntSweetProducts          46.327903\n",
            "MntGoldProds              57.507501\n",
            "NumDealsPurchases          2.109924\n",
            "NumWebPurchases            2.558784\n",
            "NumCatalogPurchases        3.131817\n",
            "NumStorePurchases          3.081931\n",
            "NumWebVisitsMonth          2.569891\n",
            "AcceptedCmp3               0.421810\n",
            "AcceptedCmp4               0.389390\n",
            "AcceptedCmp5               0.447411\n",
            "AcceptedCmp1               0.425587\n",
            "AcceptedCmp2               0.237621\n",
            "Complain                   0.094489\n",
            "Z_CostContact              0.000000\n",
            "Z_Revenue                  0.000000\n",
            "dtype: float64, 0: ID                      3262.498976\n",
            "Year_Birth                11.910143\n",
            "Income                 25252.804747\n",
            "Kidhome                    0.544975\n",
            "Teenhome                   0.545670\n",
            "Recency                   28.519092\n",
            "MntWines                 305.159188\n",
            "MntFruits                 38.191763\n",
            "MntMeatProducts          205.299936\n",
            "MntFishProducts           52.870253\n",
            "MntSweetProducts          40.001067\n",
            "MntGoldProds              50.576032\n",
            "NumDealsPurchases          1.899981\n",
            "NumWebPurchases            2.780245\n",
            "NumCatalogPurchases        2.799722\n",
            "NumStorePurchases          3.277521\n",
            "NumWebVisitsMonth          2.401348\n",
            "AcceptedCmp3               0.207623\n",
            "AcceptedCmp4               0.228214\n",
            "AcceptedCmp5               0.189425\n",
            "AcceptedCmp1               0.181541\n",
            "AcceptedCmp2               0.072262\n",
            "Complain                   0.096745\n",
            "Z_CostContact              0.000000\n",
            "Z_Revenue                  0.000000\n",
            "dtype: float64}\n",
            "Interclass Distances: {(1, 0): 9376.859520064218, (0, 1): 9376.859520064218}\n"
          ]
        }
      ]
    },
    {
      "cell_type": "code",
      "source": [
        "import matplotlib.pyplot as plt\n",
        "\n",
        "feature = 'Income'  # Change this to any feature you want to analyze\n",
        "data = X[feature]\n",
        "\n",
        "# Plot histogram\n",
        "plt.hist(data, bins=30, edgecolor='black')\n",
        "plt.title(f'Histogram of {feature}')\n",
        "plt.xlabel('Value')\n",
        "plt.ylabel('Frequency')\n",
        "plt.show()\n",
        "\n",
        "# Calculate mean and variance\n",
        "mean = np.mean(data)\n",
        "variance = np.var(data)\n",
        "print(f\"Mean of {feature}: {mean}\")\n",
        "print(f\"Variance of {feature}: {variance}\")\n"
      ],
      "metadata": {
        "colab": {
          "base_uri": "https://localhost:8080/",
          "height": 507
        },
        "id": "sMAY6MVhwX0n",
        "outputId": "0a906b3b-2f6b-4ac7-cfb9-6b51dfdb6730"
      },
      "execution_count": 33,
      "outputs": [
        {
          "output_type": "display_data",
          "data": {
            "text/plain": [
              "<Figure size 640x480 with 1 Axes>"
            ],
            "image/png": "[encoded data removed]"
          },
          "metadata": {}
        },
        {
          "output_type": "stream",
          "name": "stdout",
          "text": [
            "Mean of Income: 52247.25135379061\n",
            "Variance of Income: 633397830.1872725\n"
          ]
        }
      ]
    },
    {
      "cell_type": "code",
      "source": [
        "def minkowski_distance(x1, x2, r):\n",
        "    return np.linalg.norm(x1 - x2, ord=r)\n",
        "\n",
        "feature_vector_1 = X.iloc[0].values\n",
        "feature_vector_2 = X.iloc[1].values\n",
        "r_values = range(1, 11)\n",
        "distances = [minkowski_distance(feature_vector_1, feature_vector_2, r) for r in r_values]\n",
        "\n",
        "plt.plot(r_values, distances, marker='o')\n",
        "plt.title('Minkowski Distance vs. r')\n",
        "plt.xlabel('r')\n",
        "plt.ylabel('Distance')\n",
        "plt.show()\n"
      ],
      "metadata": {
        "colab": {
          "base_uri": "https://localhost:8080/",
          "height": 472
        },
        "id": "f3scswKqwglm",
        "outputId": "ccec66e8-52f9-48aa-f4c9-ff160f3146d0"
      },
      "execution_count": 34,
      "outputs": [
        {
          "output_type": "display_data",
          "data": {
            "text/plain": [
              "<Figure size 640x480 with 1 Axes>"
            ],
            "image/png": "[encoded data removed]"
          },
          "metadata": {}
        }
      ]
    },
    {
      "cell_type": "code",
      "source": [
        "import pandas as pd\n",
        "import numpy as np\n",
        "from sklearn.impute import SimpleImputer\n",
        "from sklearn.neighbors import KNeighborsClassifier\n",
        "from sklearn.model_selection import train_test_split\n",
        "from sklearn.metrics import confusion_matrix, classification_report\n",
        "import matplotlib.pyplot as plt\n",
        "\n",
        "# Load dataset\n",
        "df = pd.read_excel('Lab Session Data.xlsx', sheet_name='marketing_campaign')\n",
        "\n",
        "# Extract features and labels\n",
        "X = df.drop('Response', axis=1).select_dtypes(include=[np.number])  # Use only numerical features\n",
        "y = df['Response']\n",
        "\n",
        "# Handle missing values by imputing with the mean\n",
        "imputer = SimpleImputer(strategy='mean')\n",
        "X_imputed = imputer.fit_transform(X)\n",
        "\n",
        "# Split dataset into training and test sets\n",
        "X_train, X_test, y_train, y_test = train_test_split(X_imputed, y, test_size=0.3, stratify=y)\n",
        "\n",
        "\n",
        "\n",
        "\n"
      ],
      "metadata": {
        "id": "o3ydF4JLw2GO"
      },
      "execution_count": 27,
      "outputs": []
    },
    {
      "cell_type": "code",
      "source": [
        "# Train kNN classifier\n",
        "knn = KNeighborsClassifier(n_neighbors=3)\n",
        "knn.fit(X_train, y_train)\n"
      ],
      "metadata": {
        "colab": {
          "base_uri": "https://localhost:8080/",
          "height": 74
        },
        "id": "eKdNVGdXxCE5",
        "outputId": "706b0bd0-2501-4520-d4be-32ec05a12c0e"
      },
      "execution_count": 35,
      "outputs": [
        {
          "output_type": "execute_result",
          "data": {
            "text/plain": [
              "KNeighborsClassifier(n_neighbors=3)"
            ],
            "text/html": [
              "<style>#sk-container-id-3 {color: black;}#sk-container-id-3 pre{padding: 0;}#sk-container-id-3 div.sk-toggleable {background-color: white;}#sk-container-id-3 label.sk-toggleable__label {cursor: pointer;display: block;width: 100%;margin-bottom: 0;padding: 0.3em;box-sizing: border-box;text-align: center;}#sk-container-id-3 label.sk-toggleable__label-arrow:before {content: \"▸\";float: left;margin-right: 0.25em;color: #696969;}#sk-container-id-3 label.sk-toggleable__label-arrow:hover:before {color: black;}#sk-container-id-3 div.sk-estimator:hover label.sk-toggleable__label-arrow:before {color: black;}#sk-container-id-3 div.sk-toggleable__content {max-height: 0;max-width: 0;overflow: hidden;text-align: left;background-color: #f0f8ff;}#sk-container-id-3 div.sk-toggleable__content pre {margin: 0.2em;color: black;border-radius: 0.25em;background-color: #f0f8ff;}#sk-container-id-3 input.sk-toggleable__control:checked~div.sk-toggleable__content {max-height: 200px;max-width: 100%;overflow: auto;}#sk-container-id-3 input.sk-toggleable__control:checked~label.sk-toggleable__label-arrow:before {content: \"▾\";}#sk-container-id-3 div.sk-estimator input.sk-toggleable__control:checked~label.sk-toggleable__label {background-color: #d4ebff;}#sk-container-id-3 div.sk-label input.sk-toggleable__control:checked~label.sk-toggleable__label {background-color: #d4ebff;}#sk-container-id-3 input.sk-hidden--visually {border: 0;clip: rect(1px 1px 1px 1px);clip: rect(1px, 1px, 1px, 1px);height: 1px;margin: -1px;overflow: hidden;padding: 0;position: absolute;width: 1px;}#sk-container-id-3 div.sk-estimator {font-family: monospace;background-color: #f0f8ff;border: 1px dotted black;border-radius: 0.25em;box-sizing: border-box;margin-bottom: 0.5em;}#sk-container-id-3 div.sk-estimator:hover {background-color: #d4ebff;}#sk-container-id-3 div.sk-parallel-item::after {content: \"\";width: 100%;border-bottom: 1px solid gray;flex-grow: 1;}#sk-container-id-3 div.sk-label:hover label.sk-toggleable__label {background-color: #d4ebff;}#sk-container-id-3 div.sk-serial::before {content: \"\";position: absolute;border-left: 1px solid gray;box-sizing: border-box;top: 0;bottom: 0;left: 50%;z-index: 0;}#sk-container-id-3 div.sk-serial {display: flex;flex-direction: column;align-items: center;background-color: white;padding-right: 0.2em;padding-left: 0.2em;position: relative;}#sk-container-id-3 div.sk-item {position: relative;z-index: 1;}#sk-container-id-3 div.sk-parallel {display: flex;align-items: stretch;justify-content: center;background-color: white;position: relative;}#sk-container-id-3 div.sk-item::before, #sk-container-id-3 div.sk-parallel-item::before {content: \"\";position: absolute;border-left: 1px solid gray;box-sizing: border-box;top: 0;bottom: 0;left: 50%;z-index: -1;}#sk-container-id-3 div.sk-parallel-item {display: flex;flex-direction: column;z-index: 1;position: relative;background-color: white;}#sk-container-id-3 div.sk-parallel-item:first-child::after {align-self: flex-end;width: 50%;}#sk-container-id-3 div.sk-parallel-item:last-child::after {align-self: flex-start;width: 50%;}#sk-container-id-3 div.sk-parallel-item:only-child::after {width: 0;}#sk-container-id-3 div.sk-dashed-wrapped {border: 1px dashed gray;margin: 0 0.4em 0.5em 0.4em;box-sizing: border-box;padding-bottom: 0.4em;background-color: white;}#sk-container-id-3 div.sk-label label {font-family: monospace;font-weight: bold;display: inline-block;line-height: 1.2em;}#sk-container-id-3 div.sk-label-container {text-align: center;}#sk-container-id-3 div.sk-container {/* jupyter's `normalize.less` sets `[hidden] { display: none; }` but bootstrap.min.css set `[hidden] { display: none !important; }` so we also need the `!important` here to be able to override the default hidden behavior on the sphinx rendered scikit-learn.org. See: https://github.com/scikit-learn/scikit-learn/issues/21755 */display: inline-block !important;position: relative;}#sk-container-id-3 div.sk-text-repr-fallback {display: none;}</style><div id=\"sk-container-id-3\" class=\"sk-top-container\"><div class=\"sk-text-repr-fallback\"><pre>KNeighborsClassifier(n_neighbors=3)</pre><b>In a Jupyter environment, please rerun this cell to show the HTML representation or trust the notebook. <br />On GitHub, the HTML representation is unable to render, please try loading this page with nbviewer.org.</b></div><div class=\"sk-container\" hidden><div class=\"sk-item\"><div class=\"sk-estimator sk-toggleable\"><input class=\"sk-toggleable__control sk-hidden--visually\" id=\"sk-estimator-id-3\" type=\"checkbox\" checked><label for=\"sk-estimator-id-3\" class=\"sk-toggleable__label sk-toggleable__label-arrow\">KNeighborsClassifier</label><div class=\"sk-toggleable__content\"><pre>KNeighborsClassifier(n_neighbors=3)</pre></div></div></div></div></div>"
            ]
          },
          "metadata": {},
          "execution_count": 35
        }
      ]
    },
    {
      "cell_type": "code",
      "source": [
        "\n",
        "# Test accuracy\n",
        "accuracy = knn.score(X_test, y_test)\n",
        "print(f\"Accuracy of kNN (k=3): {accuracy:.2f}\")"
      ],
      "metadata": {
        "colab": {
          "base_uri": "https://localhost:8080/"
        },
        "id": "S7vKny_9xFVM",
        "outputId": "87171176-3565-4c98-f76c-cbdeba3917ee"
      },
      "execution_count": 36,
      "outputs": [
        {
          "output_type": "stream",
          "name": "stdout",
          "text": [
            "Accuracy of kNN (k=3): 0.82\n"
          ]
        }
      ]
    },
    {
      "cell_type": "code",
      "source": [
        "\n",
        "\n",
        "# Predict using the kNN classifier\n",
        "predictions = knn.predict(X_test)\n",
        "print(\"Predictions on test set:\", predictions)\n"
      ],
      "metadata": {
        "colab": {
          "base_uri": "https://localhost:8080/"
        },
        "id": "XsC3vypDxIMJ",
        "outputId": "b97dbf0b-04c4-42b7-ed61-9dabf45d087a"
      },
      "execution_count": 37,
      "outputs": [
        {
          "output_type": "stream",
          "name": "stdout",
          "text": [
            "Predictions on test set: [0 0 0 0 0 0 0 0 0 0 0 0 0 0 0 0 0 0 0 0 0 0 0 0 0 0 0 0 0 0 0 0 0 0 0 0 0\n",
            " 0 0 0 0 0 0 0 0 0 0 1 0 0 0 0 1 0 0 0 0 0 0 0 0 0 0 0 0 0 0 0 0 1 0 0 0 0\n",
            " 0 0 0 0 0 0 0 0 0 0 0 0 0 0 0 0 0 0 0 0 0 0 0 1 0 0 0 0 1 0 0 1 0 0 0 0 0\n",
            " 0 0 0 0 0 0 0 0 0 0 0 0 0 0 1 0 0 0 0 1 0 0 1 0 0 0 0 0 0 1 1 0 0 0 0 0 0\n",
            " 1 0 0 0 0 0 0 1 0 0 0 0 0 0 0 0 0 0 0 0 0 0 0 0 0 0 0 0 0 0 0 0 0 1 0 0 0\n",
            " 0 0 0 0 0 0 0 0 0 0 0 0 0 1 0 0 0 0 0 0 0 0 0 0 0 0 0 0 0 0 1 0 0 0 0 0 0\n",
            " 0 0 0 0 0 1 0 0 0 1 0 0 0 0 0 0 1 0 0 0 0 1 0 0 0 0 0 0 0 0 0 0 0 0 0 0 0\n",
            " 0 0 0 0 0 0 0 0 0 0 0 0 0 0 0 0 0 0 1 0 0 0 0 0 0 0 0 0 0 0 0 0 0 0 0 1 0\n",
            " 0 0 0 0 0 0 0 0 0 1 0 1 0 0 0 0 0 0 0 0 0 0 0 0 0 0 0 0 0 0 0 0 1 0 0 0 0\n",
            " 0 0 0 0 0 0 0 0 0 0 0 0 0 0 1 0 0 0 0 0 0 0 0 0 0 0 0 0 0 0 0 0 0 0 0 0 1\n",
            " 0 0 0 0 0 0 0 0 0 0 0 0 0 0 0 1 0 0 0 0 0 0 0 0 0 0 0 0 0 0 0 0 0 0 0 0 0\n",
            " 0 0 0 0 0 0 0 0 0 0 0 0 0 0 0 0 0 0 0 1 0 0 0 0 1 0 0 0 0 0 0 0 0 0 0 0 0\n",
            " 0 0 0 0 0 0 0 0 0 0 0 0 0 0 0 0 0 0 0 0 0 0 0 0 0 0 0 0 0 0 0 0 0 0 0 0 0\n",
            " 0 0 0 0 0 0 0 0 0 0 0 0 0 0 0 0 0 0 0 0 0 0 0 0 0 0 0 0 0 0 0 0 0 0 0 0 0\n",
            " 0 0 0 0 0 0 0 0 0 0 0 0 0 0 0 0 0 1 0 0 0 0 0 0 0 0 1 0 0 0 0 0 0 0 0 0 0\n",
            " 1 0 0 0 1 0 0 0 0 0 0 0 0 0 0 0 0 0 0 0 0 0 0 0 0 0 0 0 0 0 0 0 0 0 0 0 0\n",
            " 0 0 0 0 0 0 0 0 0 0 0 0 0 1 0 0 1 0 1 0 0 0 0 0 0 1 0 0 0 0 0 0 0 0 0 0 0\n",
            " 0 0 0 1 0 0 0 0 1 0 0 1 0 0 0 0 0 0 0 0 0 0 0 0 0 0 0 0 0 1 0 0 0 0 0 0 0\n",
            " 0 0 0 0 0 0]\n"
          ]
        }
      ]
    },
    {
      "cell_type": "code",
      "source": [
        "\n",
        "# Confusion matrix and performance metrics\n",
        "cm = confusion_matrix(y_test, predictions)\n",
        "print(\"Confusion Matrix:\\n\", cm)\n",
        "cr = classification_report(y_test, predictions)\n",
        "print(\"Classification Report:\\n\", cr)"
      ],
      "metadata": {
        "colab": {
          "base_uri": "https://localhost:8080/"
        },
        "id": "syn_v78ZxMFY",
        "outputId": "a9cf20d4-7634-4169-d604-de4718df26bc"
      },
      "execution_count": 38,
      "outputs": [
        {
          "output_type": "stream",
          "name": "stdout",
          "text": [
            "Confusion Matrix:\n",
            " [[542  30]\n",
            " [ 88  12]]\n",
            "Classification Report:\n",
            "               precision    recall  f1-score   support\n",
            "\n",
            "           0       0.86      0.95      0.90       572\n",
            "           1       0.29      0.12      0.17       100\n",
            "\n",
            "    accuracy                           0.82       672\n",
            "   macro avg       0.57      0.53      0.54       672\n",
            "weighted avg       0.77      0.82      0.79       672\n",
            "\n"
          ]
        }
      ]
    },
    {
      "cell_type": "code",
      "source": [
        "# Vary k from 1 to 11 and plot accuracy\n",
        "k_values = range(1, 12)\n",
        "accuracies = []\n",
        "for k in k_values:\n",
        "    knn = KNeighborsClassifier(n_neighbors=k)\n",
        "    knn.fit(X_train, y_train)\n",
        "    accuracy = knn.score(X_test, y_test)\n",
        "    accuracies.append(accuracy)\n",
        "\n",
        "plt.plot(k_values, accuracies, marker='o')\n",
        "plt.title('Accuracy vs. k')\n",
        "plt.xlabel('k')\n",
        "plt.ylabel('Accuracy')\n",
        "plt.show()"
      ],
      "metadata": {
        "colab": {
          "base_uri": "https://localhost:8080/",
          "height": 472
        },
        "id": "CQMAS7LrxOL_",
        "outputId": "5d60c919-23fb-41fc-a759-d87889aa2aef"
      },
      "execution_count": 39,
      "outputs": [
        {
          "output_type": "display_data",
          "data": {
            "text/plain": [
              "<Figure size 640x480 with 1 Axes>"
            ],
            "image/png": "[encoded data removed]"
          },
          "metadata": {}
        }
      ]
    }
  ]
}