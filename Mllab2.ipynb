{
  "nbformat": 4,
  "nbformat_minor": 0,
  "metadata": {
    "colab": {
      "provenance": [],
      "authorship_tag": "ABX9TyNCCXZHjlGHRvF8TXo8XpVq",
      "include_colab_link": true
    },
    "kernelspec": {
      "name": "python3",
      "display_name": "Python 3"
    },
    "language_info": {
      "name": "python"
    }
  },
  "cells": [
    {
      "cell_type": "markdown",
      "metadata": {
        "id": "view-in-github",
        "colab_type": "text"
      },
      "source": [
        "<a href=\"https://colab.research.google.com/github/parikshithsivakumar/Machine-Learning/blob/main/Mllab2.ipynb\" target=\"_parent\"><img src=\"https://colab.research.google.com/assets/colab-badge.svg\" alt=\"Open In Colab\"/></a>"
      ]
    },
    {
      "cell_type": "code",
      "source": [
        "import pandas as pd\n",
        "import numpy as np\n",
        "\n",
        "#loading the dataset from the file\n",
        "file_path = 'Lab Session Data.xlsx'\n",
        "sheet_name = 'Purchase data'\n",
        "data = pd.read_excel(file_path, sheet_name=sheet_name)\n",
        "\n",
        "# Extracting the matrices A and C\n",
        "A = data[['Candies (#)', 'Mangoes (Kg)', 'Milk Packets (#)']].values\n",
        "C = data['Payment (Rs)'].values\n",
        "\n",
        "# Calculate dimensionality of the vector space\n",
        "dimensionality = A.shape\n",
        "\n",
        "num_vectors = A.shape\n",
        "\n",
        "rank_A = np.linalg.matrix_rank(A)\n",
        "\n",
        "A_pseudo_inv = np.linalg.pinv(A)\n",
        "\n",
        "X = A_pseudo_inv.dot(C)\n",
        "\n",
        "print(\"Dimensionality of the vector space:\", dimensionality)\n",
        "print(\"Number of vectors in the vector space:\", num_vectors)\n",
        "print(\"Rank of Matrix A:\", rank_A)\n",
        "print(\"Cost of each product available for sale:\", X)\n"
      ],
      "metadata": {
        "colab": {
          "base_uri": "https://localhost:8080/"
        },
        "id": "JFb6UtU0WPlD",
        "outputId": "0431967f-19d9-4d30-dc6a-1abab79e0a0f"
      },
      "execution_count": null,
      "outputs": [
        {
          "output_type": "stream",
          "name": "stdout",
          "text": [
            "Dimensionality of the vector space: (10, 3)\n",
            "Number of vectors in the vector space: (10, 3)\n",
            "Rank of Matrix A: 3\n",
            "Cost of each product available for sale: [ 1. 55. 18.]\n"
          ]
        }
      ]
    },
    {
      "cell_type": "code",
      "source": [
        "import pandas as pd\n",
        "import numpy as np\n",
        "\n",
        "# Load the data from the Excel file\n",
        "file_path = 'Lab Session Data.xlsx'\n",
        "xls = pd.ExcelFile(file_path)\n",
        "\n",
        "purchase_data = pd.read_excel(xls, sheet_name='Purchase data')\n",
        "\n",
        "# Extract the  columns and drop rows with missing values\n",
        "purchase_data_clean = purchase_data[['Candies (#)', 'Mangoes (Kg)', 'Milk Packets (#)', 'Payment (Rs)']].dropna()\n",
        "\n",
        "# Separate  featurescolumns  (A) and the target variable (Y)\n",
        "A = purchase_data_clean[['Candies (#)', 'Mangoes (Kg)', 'Milk Packets (#)']].values\n",
        "Y = purchase_data_clean['Payment (Rs)'].values\n",
        "\n",
        "# Calculate the pseudo-inverse of A\n",
        "A_pseudo_inverse = np.linalg.pinv(A)\n",
        "\n",
        "# Calculate the model vector X\n",
        "X = np.dot(A_pseudo_inverse, Y)\n",
        "\n",
        "# Display the model vector\n",
        "print(\"Model vector X:\", X)"
      ],
      "metadata": {
        "colab": {
          "base_uri": "https://localhost:8080/"
        },
        "id": "-sPSyVRPZRsd",
        "outputId": "4bd6162e-168e-44a1-abfd-f68f92930e0c"
      },
      "execution_count": 5,
      "outputs": [
        {
          "output_type": "stream",
          "name": "stdout",
          "text": [
            "Model vector X: [ 1. 55. 18.]\n"
          ]
        }
      ]
    },
    {
      "cell_type": "code",
      "source": [
        "import pandas as pd\n",
        "import numpy as np\n",
        "\n",
        "# Load the data from the Excel file\n",
        "file_path = 'Lab Session Data.xlsx'\n",
        "xls = pd.ExcelFile(file_path)\n",
        "\n",
        "# Load the \"Purchase data\" sheet\n",
        "purchase_data = pd.read_excel(xls, sheet_name='Purchase data')\n",
        "\n",
        "# Extract the  columns and drop rows with missing values\n",
        "purchasedataclean = purchase_data[['Customer', 'Candies (#)', 'Mangoes (Kg)', 'Milk Packets (#)', 'Payment (Rs)']].dropna()\n",
        "\n",
        "purchasedataclean['Class'] = np.where(purchasedataclean['Payment (Rs)'] > 200, 'RICH', 'POOR')\n",
        "\n",
        "sorteddata = purchasedataclean.sort_values(by='Class', ascending=False)\n",
        "\n",
        "# Display the sorted data\n",
        "print(sorteddata)\n"
      ],
      "metadata": {
        "colab": {
          "base_uri": "https://localhost:8080/"
        },
        "id": "bCD5SRs4dzV_",
        "outputId": "eb7ff0a1-e723-4ea1-8c97-fcca58e325fc"
      },
      "execution_count": 4,
      "outputs": [
        {
          "output_type": "stream",
          "name": "stdout",
          "text": [
            "  Customer  Candies (#)  Mangoes (Kg)  Milk Packets (#)  Payment (Rs) Class\n",
            "0      C_1           20             6                 2           386  RICH\n",
            "1      C_2           16             3                 6           289  RICH\n",
            "2      C_3           27             6                 2           393  RICH\n",
            "4      C_5           24             4                 2           280  RICH\n",
            "6      C_7           15             4                 2           271  RICH\n",
            "7      C_8           18             4                 2           274  RICH\n",
            "3      C_4           19             1                 2           110  POOR\n",
            "5      C_6           22             1                 5           167  POOR\n",
            "8      C_9           21             1                 4           148  POOR\n",
            "9     C_10           16             2                 4           198  POOR\n"
          ]
        }
      ]
    },
    {
      "cell_type": "code",
      "source": [
        "import pandas as pd\n",
        "import statistics\n",
        "\n",
        "# Load the data\n",
        "file_path = 'Lab Session Data.xlsx'\n",
        "sheet_name = 'IRCTC Stock Price'\n",
        "data = pd.read_excel(file_path, sheet_name=sheet_name)\n",
        "\n",
        "# Extract Price data from column D\n",
        "price_data = data['Price']\n",
        "\n",
        "# Calculate mean and variance\n",
        "mean_price = statistics.mean(price_data)\n",
        "variance_price = statistics.variance(price_data)\n",
        "\n",
        "print(f\"Mean Price: {mean_price}\")\n",
        "print(f\"Variance Price: {variance_price}\")\n"
      ],
      "metadata": {
        "colab": {
          "base_uri": "https://localhost:8080/"
        },
        "id": "CMOWbDcsZmiy",
        "outputId": "41732032-4e8f-4258-8c4d-07076bb13cf5"
      },
      "execution_count": null,
      "outputs": [
        {
          "output_type": "stream",
          "name": "stdout",
          "text": [
            "Mean Price: 1560.663453815261\n",
            "Variance Price: 58732.365352539186\n"
          ]
        }
      ]
    },
    {
      "cell_type": "code",
      "source": [
        "import pandas as pd\n",
        "import statistics\n",
        "\n",
        "# Load the data\n",
        "file_path = 'Lab Session Data.xlsx'\n",
        "sheet_name = 'IRCTC Stock Price'\n",
        "data = pd.read_excel(file_path, sheet_name=sheet_name)\n",
        "# Extract Price data and Day column\n",
        "price_data = data['Price']\n",
        "day_column = data['Day']\n",
        "\n",
        "wednesday_data = data[day_column == 'Wed']\n",
        "\n",
        "mean_wednesday_price = statistics.mean(wednesday_data['Price'])\n",
        "print(f\"Mean Price on Wednesdays: {mean_wednesday_price}\")"
      ],
      "metadata": {
        "colab": {
          "base_uri": "https://localhost:8080/"
        },
        "id": "EsrUbvlNcqWb",
        "outputId": "3d36746d-5828-4784-e604-aa1cefccecbe"
      },
      "execution_count": null,
      "outputs": [
        {
          "output_type": "stream",
          "name": "stdout",
          "text": [
            "Mean Price on Wednesdays: 1550.706\n"
          ]
        }
      ]
    },
    {
      "cell_type": "code",
      "source": [
        "import pandas as pd\n",
        "import statistics\n",
        "\n",
        "# Load the data\n",
        "file_path = 'Lab Session Data.xlsx'\n",
        "sheet_name = 'IRCTC Stock Price'\n",
        "data = pd.read_excel(file_path, sheet_name=sheet_name)\n",
        "\n",
        "# Extract Price data and Day column\n",
        "price_data = data['Price']\n",
        "day_column = data['Month']\n",
        "\n",
        "\n",
        "april_data = data[day_column == 'Apr']\n",
        "\n",
        "mean_april_price = statistics.mean(april_data['Price'])\n",
        "print(f\"Mean Price on Wednesdays: {mean_april_price}\")\n",
        "\n"
      ],
      "metadata": {
        "colab": {
          "base_uri": "https://localhost:8080/"
        },
        "id": "BUNn5oaNdHac",
        "outputId": "1f0e9585-16f9-4d94-8a13-3cddbb7619d5"
      },
      "execution_count": null,
      "outputs": [
        {
          "output_type": "stream",
          "name": "stdout",
          "text": [
            "Mean Price on Wednesdays: 1698.9526315789474\n"
          ]
        }
      ]
    },
    {
      "cell_type": "code",
      "source": [
        "import pandas as pd\n",
        "import statistics\n",
        "\n",
        "# Load the data\n",
        "file_path = 'Lab Session Data.xlsx'\n",
        "sheet_name = 'IRCTC Stock Price'\n",
        "data = pd.read_excel(file_path, sheet_name=sheet_name)\n",
        "\n",
        "# Use a lambda function to find negative values\n",
        "is_loss = chg_percentage.apply(lambda x: x < 0)\n",
        "\n",
        "# Calculate the probability of making a loss\n",
        "loss_probability = is_loss.mean()\n",
        "print(f\"Probability of Making a Loss: {loss_probability}\")"
      ],
      "metadata": {
        "colab": {
          "base_uri": "https://localhost:8080/"
        },
        "id": "YxUU6KszeV5v",
        "outputId": "c1c9498b-2a41-441b-9c2e-a149fb1babcd"
      },
      "execution_count": null,
      "outputs": [
        {
          "output_type": "stream",
          "name": "stdout",
          "text": [
            "Probability of Making a Loss: 0.4979919678714859\n"
          ]
        }
      ]
    },
    {
      "cell_type": "code",
      "source": [
        "import matplotlib.pyplot as plt\n",
        "import pandas as pd\n",
        "\n",
        "# Load the data\n",
        "file_path = 'Lab Session Data.xlsx'\n",
        "sheet_name = 'IRCTC Stock Price'\n",
        "data = pd.read_excel(file_path, sheet_name=sheet_name)\n",
        "\n",
        "plt.figure(figsize=(10, 6))\n",
        "plt.scatter(data['Day'], data['Chg%'])\n",
        "plt.xlabel('Day')\n",
        "plt.ylabel('Chg%')\n",
        "plt.show()\n"
      ],
      "metadata": {
        "colab": {
          "base_uri": "https://localhost:8080/",
          "height": 538
        },
        "id": "db7hXnYGwjmO",
        "outputId": "2459e653-2ea2-4a6b-d273-f6944382dd09"
      },
      "execution_count": 14,
      "outputs": [
        {
          "output_type": "display_data",
          "data": {
            "text/plain": [
              "<Figure size 1000x600 with 1 Axes>"
            ],
            "image/png": "[encoded data removed]"
          },
          "metadata": {}
        }
      ]
    }
  ]
}